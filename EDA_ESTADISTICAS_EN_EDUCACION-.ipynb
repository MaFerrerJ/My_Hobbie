{
 "cells": [
  {
   "cell_type": "markdown",
   "id": "58621097",
   "metadata": {},
   "source": [
    "# <b> QuantiCore S.A - Estadísticas de Educación en Colombia (2011-2023) </b>"
   ]
  },
  {
   "cell_type": "markdown",
   "id": "e30479ad",
   "metadata": {},
   "source": [
    "<style>\n",
    ".color1 { color: #551bb3; }\n",
    ".color2 { color: #268fbe; }\n",
    ".color3 { color: #2cb8b2; }\n",
    ".color4 { color: #3ddb8f; }\n",
    ".color5 { color: #a9f04d; }\n",
    "</style>\n",
    "\n",
    "<p class=\"color1\">Este texto es morado.</p>\n",
    "<p class=\"color2\">Este texto es azul.</p>\n",
    "<p class=\"color3\">Este texto es turquesa.</p>\n",
    "<p class=\"color4\">Este texto es verde.</p>\n",
    "<p class=\"color5\">Este texto es amarillo.</p>"
   ]
  },
  {
   "cell_type": "markdown",
   "id": "e84cebf8",
   "metadata": {},
   "source": [
    "## <b> Preprocesamiento de Datos y EDA </b>"
   ]
  },
  {
   "cell_type": "markdown",
   "id": "79d94480",
   "metadata": {},
   "source": [
    "_______________________________________________________________"
   ]
  },
  {
   "cell_type": "markdown",
   "id": "439d95e0",
   "metadata": {},
   "source": [
    "<h1><font color=\"purple\">Título en verde</font></h1>"
   ]
  }
 ],
 "metadata": {
  "language_info": {
   "name": "python"
  }
 },
 "nbformat": 4,
 "nbformat_minor": 5
}
