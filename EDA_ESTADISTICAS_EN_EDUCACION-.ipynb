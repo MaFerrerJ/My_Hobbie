{
 "cells": [
  {
   "cell_type": "markdown",
   "id": "58621097",
   "metadata": {},
   "source": [
    "# <b> QuantiCore S.A - Estadísticas de Educación en Colombia (2011-2023) </b>"
   ]
  },
  {
   "cell_type": "markdown",
   "id": "e84cebf8",
   "metadata": {},
   "source": [
    "## <b><font color=\"#551bb3\"> Preprocesamiento de Datos y EDA </font></b>"
   ]
  },
  {
   "cell_type": "markdown",
   "id": "79d94480",
   "metadata": {},
   "source": [
    "_______________________________________________________________"
   ]
  }
 ],
 "metadata": {
  "language_info": {
   "name": "python"
  }
 },
 "nbformat": 4,
 "nbformat_minor": 5
}
